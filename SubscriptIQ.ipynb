{
 "cells": [
  {
   "cell_type": "markdown",
   "id": "ce260c8e",
   "metadata": {},
   "source": [
    "# Project -- #SubscriptIQ — Subscription Retention & Revenue Risk Analytics "
   ]
  },
  {
   "cell_type": "code",
   "execution_count": 2,
   "id": "748c0208",
   "metadata": {},
   "outputs": [],
   "source": [
    "import pandas as pd\n",
    "import matplotlib.pyplot as plt\n",
    "import seaborn as sns\n",
    "import matplotlib_inline"
   ]
  },
  {
   "cell_type": "code",
   "execution_count": 3,
   "id": "fac65949",
   "metadata": {},
   "outputs": [],
   "source": [
    "df = pd.read_csv(\"D:\\\\powerbi\\\\projects\\\\Upcoming Project\\\\ML\\\\SubscriptIQ — Subscription Retention & Revenue Risk Analytics.csv\")"
   ]
  },
  {
   "cell_type": "code",
   "execution_count": 4,
   "id": "7b73856c",
   "metadata": {},
   "outputs": [
    {
     "data": {
      "text/html": [
       "<div>\n",
       "<style scoped>\n",
       "    .dataframe tbody tr th:only-of-type {\n",
       "        vertical-align: middle;\n",
       "    }\n",
       "\n",
       "    .dataframe tbody tr th {\n",
       "        vertical-align: top;\n",
       "    }\n",
       "\n",
       "    .dataframe thead th {\n",
       "        text-align: right;\n",
       "    }\n",
       "</style>\n",
       "<table border=\"1\" class=\"dataframe\">\n",
       "  <thead>\n",
       "    <tr style=\"text-align: right;\">\n",
       "      <th></th>\n",
       "      <th>CustomerID</th>\n",
       "      <th>Count</th>\n",
       "      <th>Country</th>\n",
       "      <th>State</th>\n",
       "      <th>City</th>\n",
       "      <th>Zip Code</th>\n",
       "      <th>Lat Long</th>\n",
       "      <th>Latitude</th>\n",
       "      <th>Longitude</th>\n",
       "      <th>Gender</th>\n",
       "      <th>...</th>\n",
       "      <th>Contract</th>\n",
       "      <th>Paperless Billing</th>\n",
       "      <th>Payment Method</th>\n",
       "      <th>Monthly Charges</th>\n",
       "      <th>Total Charges</th>\n",
       "      <th>Churn Label</th>\n",
       "      <th>Churn Value</th>\n",
       "      <th>Churn Score</th>\n",
       "      <th>CLTV</th>\n",
       "      <th>Churn Reason</th>\n",
       "    </tr>\n",
       "  </thead>\n",
       "  <tbody>\n",
       "    <tr>\n",
       "      <th>0</th>\n",
       "      <td>P_000001</td>\n",
       "      <td>1</td>\n",
       "      <td>United States</td>\n",
       "      <td>California</td>\n",
       "      <td>Los Angeles</td>\n",
       "      <td>90003.0</td>\n",
       "      <td>33.964131, -118.272783</td>\n",
       "      <td>33.964131</td>\n",
       "      <td>-118.272783</td>\n",
       "      <td>Male</td>\n",
       "      <td>...</td>\n",
       "      <td>Month-to-month</td>\n",
       "      <td>Yes</td>\n",
       "      <td>Mailed check</td>\n",
       "      <td>53.85</td>\n",
       "      <td>108.15</td>\n",
       "      <td>Yes</td>\n",
       "      <td>1.0</td>\n",
       "      <td>86.0</td>\n",
       "      <td>3239.0</td>\n",
       "      <td>Competitor made better offer</td>\n",
       "    </tr>\n",
       "    <tr>\n",
       "      <th>1</th>\n",
       "      <td>P_000002</td>\n",
       "      <td>1</td>\n",
       "      <td>United States</td>\n",
       "      <td>California</td>\n",
       "      <td>Los Angeles</td>\n",
       "      <td>90005.0</td>\n",
       "      <td>34.059281, -118.30742</td>\n",
       "      <td>34.059281</td>\n",
       "      <td>-118.307420</td>\n",
       "      <td>Female</td>\n",
       "      <td>...</td>\n",
       "      <td>Month-to-month</td>\n",
       "      <td>Yes</td>\n",
       "      <td>Electronic check</td>\n",
       "      <td>70.70</td>\n",
       "      <td>151.65</td>\n",
       "      <td>Yes</td>\n",
       "      <td>1.0</td>\n",
       "      <td>67.0</td>\n",
       "      <td>2701.0</td>\n",
       "      <td>Moved</td>\n",
       "    </tr>\n",
       "    <tr>\n",
       "      <th>2</th>\n",
       "      <td>P_000003</td>\n",
       "      <td>1</td>\n",
       "      <td>United States</td>\n",
       "      <td>California</td>\n",
       "      <td>Los Angeles</td>\n",
       "      <td>90006.0</td>\n",
       "      <td>34.048013, -118.293953</td>\n",
       "      <td>34.048013</td>\n",
       "      <td>-118.293953</td>\n",
       "      <td>Female</td>\n",
       "      <td>...</td>\n",
       "      <td>Month-to-month</td>\n",
       "      <td>Yes</td>\n",
       "      <td>Electronic check</td>\n",
       "      <td>99.65</td>\n",
       "      <td>820.5</td>\n",
       "      <td>Yes</td>\n",
       "      <td>1.0</td>\n",
       "      <td>86.0</td>\n",
       "      <td>5372.0</td>\n",
       "      <td>Moved</td>\n",
       "    </tr>\n",
       "    <tr>\n",
       "      <th>3</th>\n",
       "      <td>P_000004</td>\n",
       "      <td>1</td>\n",
       "      <td>United States</td>\n",
       "      <td>California</td>\n",
       "      <td>Los Angeles</td>\n",
       "      <td>90010.0</td>\n",
       "      <td>34.062125, -118.315709</td>\n",
       "      <td>34.062125</td>\n",
       "      <td>-118.315709</td>\n",
       "      <td>Female</td>\n",
       "      <td>...</td>\n",
       "      <td>Month-to-month</td>\n",
       "      <td>Yes</td>\n",
       "      <td>Electronic check</td>\n",
       "      <td>104.80</td>\n",
       "      <td>3046.05</td>\n",
       "      <td>Yes</td>\n",
       "      <td>1.0</td>\n",
       "      <td>84.0</td>\n",
       "      <td>5003.0</td>\n",
       "      <td>Moved</td>\n",
       "    </tr>\n",
       "    <tr>\n",
       "      <th>4</th>\n",
       "      <td>P_000005</td>\n",
       "      <td>1</td>\n",
       "      <td>United States</td>\n",
       "      <td>California</td>\n",
       "      <td>Los Angeles</td>\n",
       "      <td>90015.0</td>\n",
       "      <td>34.039224, -118.266293</td>\n",
       "      <td>34.039224</td>\n",
       "      <td>-118.266293</td>\n",
       "      <td>Male</td>\n",
       "      <td>...</td>\n",
       "      <td>Month-to-month</td>\n",
       "      <td>Yes</td>\n",
       "      <td>Bank transfer (automatic)</td>\n",
       "      <td>103.70</td>\n",
       "      <td>5036.3</td>\n",
       "      <td>Yes</td>\n",
       "      <td>1.0</td>\n",
       "      <td>89.0</td>\n",
       "      <td>5340.0</td>\n",
       "      <td>Competitor had better devices</td>\n",
       "    </tr>\n",
       "  </tbody>\n",
       "</table>\n",
       "<p>5 rows × 33 columns</p>\n",
       "</div>"
      ],
      "text/plain": [
       "  CustomerID  Count        Country       State         City  Zip Code  \\\n",
       "0   P_000001      1  United States  California  Los Angeles   90003.0   \n",
       "1   P_000002      1  United States  California  Los Angeles   90005.0   \n",
       "2   P_000003      1  United States  California  Los Angeles   90006.0   \n",
       "3   P_000004      1  United States  California  Los Angeles   90010.0   \n",
       "4   P_000005      1  United States  California  Los Angeles   90015.0   \n",
       "\n",
       "                 Lat Long   Latitude   Longitude  Gender  ...        Contract  \\\n",
       "0  33.964131, -118.272783  33.964131 -118.272783    Male  ...  Month-to-month   \n",
       "1   34.059281, -118.30742  34.059281 -118.307420  Female  ...  Month-to-month   \n",
       "2  34.048013, -118.293953  34.048013 -118.293953  Female  ...  Month-to-month   \n",
       "3  34.062125, -118.315709  34.062125 -118.315709  Female  ...  Month-to-month   \n",
       "4  34.039224, -118.266293  34.039224 -118.266293    Male  ...  Month-to-month   \n",
       "\n",
       "  Paperless Billing             Payment Method  Monthly Charges Total Charges  \\\n",
       "0               Yes               Mailed check            53.85        108.15   \n",
       "1               Yes           Electronic check            70.70        151.65   \n",
       "2               Yes           Electronic check            99.65         820.5   \n",
       "3               Yes           Electronic check           104.80       3046.05   \n",
       "4               Yes  Bank transfer (automatic)           103.70        5036.3   \n",
       "\n",
       "  Churn Label Churn Value Churn Score    CLTV                   Churn Reason  \n",
       "0         Yes         1.0        86.0  3239.0   Competitor made better offer  \n",
       "1         Yes         1.0        67.0  2701.0                          Moved  \n",
       "2         Yes         1.0        86.0  5372.0                          Moved  \n",
       "3         Yes         1.0        84.0  5003.0                          Moved  \n",
       "4         Yes         1.0        89.0  5340.0  Competitor had better devices  \n",
       "\n",
       "[5 rows x 33 columns]"
      ]
     },
     "execution_count": 4,
     "metadata": {},
     "output_type": "execute_result"
    }
   ],
   "source": [
    "df.head(5)"
   ]
  },
  {
   "cell_type": "markdown",
   "id": "9122af36",
   "metadata": {},
   "source": [
    "## Data Cleaning and Modification"
   ]
  },
  {
   "cell_type": "code",
   "execution_count": 5,
   "id": "c60b0720",
   "metadata": {},
   "outputs": [
    {
     "name": "stdout",
     "output_type": "stream",
     "text": [
      "<class 'pandas.core.frame.DataFrame'>\n",
      "RangeIndex: 50000 entries, 0 to 49999\n",
      "Data columns (total 33 columns):\n",
      " #   Column             Non-Null Count  Dtype  \n",
      "---  ------             --------------  -----  \n",
      " 0   CustomerID         50000 non-null  object \n",
      " 1   Count              50000 non-null  int64  \n",
      " 2   Country            50000 non-null  object \n",
      " 3   State              50000 non-null  object \n",
      " 4   City               50000 non-null  object \n",
      " 5   Zip Code           50000 non-null  float64\n",
      " 6   Lat Long           50000 non-null  object \n",
      " 7   Latitude           50000 non-null  float64\n",
      " 8   Longitude          50000 non-null  float64\n",
      " 9   Gender             50000 non-null  object \n",
      " 10  Senior Citizen     50000 non-null  object \n",
      " 11  Partner            50000 non-null  object \n",
      " 12  Dependents         50000 non-null  object \n",
      " 13  Tenure Months      50000 non-null  float64\n",
      " 14  Phone Service      50000 non-null  object \n",
      " 15  Multiple Lines     50000 non-null  object \n",
      " 16  Internet Service   50000 non-null  object \n",
      " 17  Online Security    50000 non-null  object \n",
      " 18  Online Backup      50000 non-null  object \n",
      " 19  Device Protection  50000 non-null  object \n",
      " 20  Tech Support       50000 non-null  object \n",
      " 21  Streaming TV       50000 non-null  object \n",
      " 22  Streaming Movies   50000 non-null  object \n",
      " 23  Contract           50000 non-null  object \n",
      " 24  Paperless Billing  50000 non-null  object \n",
      " 25  Payment Method     50000 non-null  object \n",
      " 26  Monthly Charges    50000 non-null  float64\n",
      " 27  Total Charges      50000 non-null  object \n",
      " 28  Churn Label        50000 non-null  object \n",
      " 29  Churn Value        50000 non-null  float64\n",
      " 30  Churn Score        50000 non-null  float64\n",
      " 31  CLTV               50000 non-null  float64\n",
      " 32  Churn Reason       44826 non-null  object \n",
      "dtypes: float64(8), int64(1), object(24)\n",
      "memory usage: 12.6+ MB\n"
     ]
    }
   ],
   "source": [
    "\n",
    "df.info()"
   ]
  },
  {
   "cell_type": "code",
   "execution_count": 6,
   "id": "5b777f7d",
   "metadata": {},
   "outputs": [
    {
     "data": {
      "text/plain": [
       "CustomerID              0\n",
       "Count                   0\n",
       "Country                 0\n",
       "State                   0\n",
       "City                    0\n",
       "Zip Code                0\n",
       "Lat Long                0\n",
       "Latitude                0\n",
       "Longitude               0\n",
       "Gender                  0\n",
       "Senior Citizen          0\n",
       "Partner                 0\n",
       "Dependents              0\n",
       "Tenure Months           0\n",
       "Phone Service           0\n",
       "Multiple Lines          0\n",
       "Internet Service        0\n",
       "Online Security         0\n",
       "Online Backup           0\n",
       "Device Protection       0\n",
       "Tech Support            0\n",
       "Streaming TV            0\n",
       "Streaming Movies        0\n",
       "Contract                0\n",
       "Paperless Billing       0\n",
       "Payment Method          0\n",
       "Monthly Charges         0\n",
       "Total Charges           0\n",
       "Churn Label             0\n",
       "Churn Value             0\n",
       "Churn Score             0\n",
       "CLTV                    0\n",
       "Churn Reason         5174\n",
       "dtype: int64"
      ]
     },
     "execution_count": 6,
     "metadata": {},
     "output_type": "execute_result"
    }
   ],
   "source": [
    "df.isnull().sum()"
   ]
  },
  {
   "cell_type": "code",
   "execution_count": 7,
   "id": "f422f74e",
   "metadata": {},
   "outputs": [],
   "source": [
    "df.drop_duplicates(inplace=True)\n"
   ]
  },
  {
   "cell_type": "code",
   "execution_count": 8,
   "id": "0d04a1b6",
   "metadata": {},
   "outputs": [
    {
     "data": {
      "text/plain": [
       "50000"
      ]
     },
     "execution_count": 8,
     "metadata": {},
     "output_type": "execute_result"
    }
   ],
   "source": [
    "df.CustomerID.nunique()"
   ]
  },
  {
   "cell_type": "code",
   "execution_count": 9,
   "id": "9788c4b1",
   "metadata": {},
   "outputs": [],
   "source": [
    "df['Churn Reason'] = df['Churn Reason'].fillna(\"Unknown\")"
   ]
  },
  {
   "cell_type": "code",
   "execution_count": 10,
   "id": "f91b1122",
   "metadata": {},
   "outputs": [
    {
     "data": {
      "text/plain": [
       "Index(['CustomerID', 'Count', 'Country', 'State', 'City', 'Zip Code',\n",
       "       'Lat Long', 'Latitude', 'Longitude', 'Gender', 'Senior Citizen',\n",
       "       'Partner', 'Dependents', 'Tenure Months', 'Phone Service',\n",
       "       'Multiple Lines', 'Internet Service', 'Online Security',\n",
       "       'Online Backup', 'Device Protection', 'Tech Support', 'Streaming TV',\n",
       "       'Streaming Movies', 'Contract', 'Paperless Billing', 'Payment Method',\n",
       "       'Monthly Charges', 'Total Charges', 'Churn Label', 'Churn Value',\n",
       "       'Churn Score', 'CLTV', 'Churn Reason'],\n",
       "      dtype='object')"
      ]
     },
     "execution_count": 10,
     "metadata": {},
     "output_type": "execute_result"
    }
   ],
   "source": [
    "df.columns"
   ]
  },
  {
   "cell_type": "code",
   "execution_count": 11,
   "id": "b17679e7",
   "metadata": {},
   "outputs": [],
   "source": [
    "df.drop(columns=['Lat Long','Latitude', 'Longitude'],inplace=True)"
   ]
  },
  {
   "cell_type": "code",
   "execution_count": 12,
   "id": "5dbe1870",
   "metadata": {},
   "outputs": [],
   "source": [
    "#Data Type\n",
    "df['Zip Code'] = df['Zip Code'].astype('Int64',errors='ignore')\n",
    "df['Total Charges'] = pd.to_numeric(df['Total Charges'], errors='coerce')\n"
   ]
  },
  {
   "cell_type": "code",
   "execution_count": 13,
   "id": "4bda14ef",
   "metadata": {},
   "outputs": [],
   "source": [
    "\n",
    "df['Gender'] = df['Gender'].str.strip().str.title()   # Male, Female\n",
    "df['Senior Citizen'] = df['Senior Citizen'].map({'Yes': 1, 'No': 0})\n",
    "df['Partner'] = df['Partner'].map({'Yes': 1, 'No': 0})\n",
    "df['Dependents'] = df['Dependents'].map({'Yes': 1, 'No': 0})\n",
    "df['Paperless Billing'] = df['Paperless Billing'].map({'Yes': 1, 'No': 0})\n",
    "df['Churn Label'] = df['Churn Label'].map({'Yes': 1, 'No': 0})"
   ]
  },
  {
   "cell_type": "code",
   "execution_count": 14,
   "id": "5d0bbd2e",
   "metadata": {},
   "outputs": [
    {
     "data": {
      "text/html": [
       "<div>\n",
       "<style scoped>\n",
       "    .dataframe tbody tr th:only-of-type {\n",
       "        vertical-align: middle;\n",
       "    }\n",
       "\n",
       "    .dataframe tbody tr th {\n",
       "        vertical-align: top;\n",
       "    }\n",
       "\n",
       "    .dataframe thead th {\n",
       "        text-align: right;\n",
       "    }\n",
       "</style>\n",
       "<table border=\"1\" class=\"dataframe\">\n",
       "  <thead>\n",
       "    <tr style=\"text-align: right;\">\n",
       "      <th></th>\n",
       "      <th>CustomerID</th>\n",
       "      <th>Count</th>\n",
       "      <th>Country</th>\n",
       "      <th>State</th>\n",
       "      <th>City</th>\n",
       "      <th>Zip Code</th>\n",
       "      <th>Gender</th>\n",
       "      <th>Senior Citizen</th>\n",
       "      <th>Partner</th>\n",
       "      <th>Dependents</th>\n",
       "      <th>...</th>\n",
       "      <th>Contract</th>\n",
       "      <th>Paperless Billing</th>\n",
       "      <th>Payment Method</th>\n",
       "      <th>Monthly Charges</th>\n",
       "      <th>Total Charges</th>\n",
       "      <th>Churn Label</th>\n",
       "      <th>Churn Value</th>\n",
       "      <th>Churn Score</th>\n",
       "      <th>CLTV</th>\n",
       "      <th>Churn Reason</th>\n",
       "    </tr>\n",
       "  </thead>\n",
       "  <tbody>\n",
       "    <tr>\n",
       "      <th>0</th>\n",
       "      <td>P_000001</td>\n",
       "      <td>1</td>\n",
       "      <td>United States</td>\n",
       "      <td>California</td>\n",
       "      <td>Los Angeles</td>\n",
       "      <td>90003.0</td>\n",
       "      <td>Male</td>\n",
       "      <td>0</td>\n",
       "      <td>0</td>\n",
       "      <td>0</td>\n",
       "      <td>...</td>\n",
       "      <td>Month-to-month</td>\n",
       "      <td>1</td>\n",
       "      <td>Mailed check</td>\n",
       "      <td>53.85</td>\n",
       "      <td>108.15</td>\n",
       "      <td>1</td>\n",
       "      <td>1.0</td>\n",
       "      <td>86.0</td>\n",
       "      <td>3239.0</td>\n",
       "      <td>Competitor made better offer</td>\n",
       "    </tr>\n",
       "    <tr>\n",
       "      <th>1</th>\n",
       "      <td>P_000002</td>\n",
       "      <td>1</td>\n",
       "      <td>United States</td>\n",
       "      <td>California</td>\n",
       "      <td>Los Angeles</td>\n",
       "      <td>90005.0</td>\n",
       "      <td>Female</td>\n",
       "      <td>0</td>\n",
       "      <td>0</td>\n",
       "      <td>1</td>\n",
       "      <td>...</td>\n",
       "      <td>Month-to-month</td>\n",
       "      <td>1</td>\n",
       "      <td>Electronic check</td>\n",
       "      <td>70.70</td>\n",
       "      <td>151.65</td>\n",
       "      <td>1</td>\n",
       "      <td>1.0</td>\n",
       "      <td>67.0</td>\n",
       "      <td>2701.0</td>\n",
       "      <td>Moved</td>\n",
       "    </tr>\n",
       "    <tr>\n",
       "      <th>2</th>\n",
       "      <td>P_000003</td>\n",
       "      <td>1</td>\n",
       "      <td>United States</td>\n",
       "      <td>California</td>\n",
       "      <td>Los Angeles</td>\n",
       "      <td>90006.0</td>\n",
       "      <td>Female</td>\n",
       "      <td>0</td>\n",
       "      <td>0</td>\n",
       "      <td>1</td>\n",
       "      <td>...</td>\n",
       "      <td>Month-to-month</td>\n",
       "      <td>1</td>\n",
       "      <td>Electronic check</td>\n",
       "      <td>99.65</td>\n",
       "      <td>820.50</td>\n",
       "      <td>1</td>\n",
       "      <td>1.0</td>\n",
       "      <td>86.0</td>\n",
       "      <td>5372.0</td>\n",
       "      <td>Moved</td>\n",
       "    </tr>\n",
       "    <tr>\n",
       "      <th>3</th>\n",
       "      <td>P_000004</td>\n",
       "      <td>1</td>\n",
       "      <td>United States</td>\n",
       "      <td>California</td>\n",
       "      <td>Los Angeles</td>\n",
       "      <td>90010.0</td>\n",
       "      <td>Female</td>\n",
       "      <td>0</td>\n",
       "      <td>1</td>\n",
       "      <td>1</td>\n",
       "      <td>...</td>\n",
       "      <td>Month-to-month</td>\n",
       "      <td>1</td>\n",
       "      <td>Electronic check</td>\n",
       "      <td>104.80</td>\n",
       "      <td>3046.05</td>\n",
       "      <td>1</td>\n",
       "      <td>1.0</td>\n",
       "      <td>84.0</td>\n",
       "      <td>5003.0</td>\n",
       "      <td>Moved</td>\n",
       "    </tr>\n",
       "    <tr>\n",
       "      <th>4</th>\n",
       "      <td>P_000005</td>\n",
       "      <td>1</td>\n",
       "      <td>United States</td>\n",
       "      <td>California</td>\n",
       "      <td>Los Angeles</td>\n",
       "      <td>90015.0</td>\n",
       "      <td>Male</td>\n",
       "      <td>0</td>\n",
       "      <td>0</td>\n",
       "      <td>1</td>\n",
       "      <td>...</td>\n",
       "      <td>Month-to-month</td>\n",
       "      <td>1</td>\n",
       "      <td>Bank transfer (automatic)</td>\n",
       "      <td>103.70</td>\n",
       "      <td>5036.30</td>\n",
       "      <td>1</td>\n",
       "      <td>1.0</td>\n",
       "      <td>89.0</td>\n",
       "      <td>5340.0</td>\n",
       "      <td>Competitor had better devices</td>\n",
       "    </tr>\n",
       "  </tbody>\n",
       "</table>\n",
       "<p>5 rows × 30 columns</p>\n",
       "</div>"
      ],
      "text/plain": [
       "  CustomerID  Count        Country       State         City  Zip Code  Gender  \\\n",
       "0   P_000001      1  United States  California  Los Angeles   90003.0    Male   \n",
       "1   P_000002      1  United States  California  Los Angeles   90005.0  Female   \n",
       "2   P_000003      1  United States  California  Los Angeles   90006.0  Female   \n",
       "3   P_000004      1  United States  California  Los Angeles   90010.0  Female   \n",
       "4   P_000005      1  United States  California  Los Angeles   90015.0    Male   \n",
       "\n",
       "   Senior Citizen  Partner  Dependents  ...        Contract Paperless Billing  \\\n",
       "0               0        0           0  ...  Month-to-month                 1   \n",
       "1               0        0           1  ...  Month-to-month                 1   \n",
       "2               0        0           1  ...  Month-to-month                 1   \n",
       "3               0        1           1  ...  Month-to-month                 1   \n",
       "4               0        0           1  ...  Month-to-month                 1   \n",
       "\n",
       "              Payment Method Monthly Charges Total Charges Churn Label  \\\n",
       "0               Mailed check           53.85        108.15           1   \n",
       "1           Electronic check           70.70        151.65           1   \n",
       "2           Electronic check           99.65        820.50           1   \n",
       "3           Electronic check          104.80       3046.05           1   \n",
       "4  Bank transfer (automatic)          103.70       5036.30           1   \n",
       "\n",
       "  Churn Value Churn Score    CLTV                   Churn Reason  \n",
       "0         1.0        86.0  3239.0   Competitor made better offer  \n",
       "1         1.0        67.0  2701.0                          Moved  \n",
       "2         1.0        86.0  5372.0                          Moved  \n",
       "3         1.0        84.0  5003.0                          Moved  \n",
       "4         1.0        89.0  5340.0  Competitor had better devices  \n",
       "\n",
       "[5 rows x 30 columns]"
      ]
     },
     "execution_count": 14,
     "metadata": {},
     "output_type": "execute_result"
    }
   ],
   "source": [
    "df.head()"
   ]
  },
  {
   "cell_type": "code",
   "execution_count": 15,
   "id": "ac79a6a7",
   "metadata": {},
   "outputs": [
    {
     "data": {
      "text/plain": [
       "CustomerID            0\n",
       "Count                 0\n",
       "Country               0\n",
       "State                 0\n",
       "City                  0\n",
       "Zip Code              0\n",
       "Gender                0\n",
       "Senior Citizen        0\n",
       "Partner               0\n",
       "Dependents            0\n",
       "Tenure Months         0\n",
       "Phone Service         0\n",
       "Multiple Lines        0\n",
       "Internet Service      0\n",
       "Online Security       0\n",
       "Online Backup         0\n",
       "Device Protection     0\n",
       "Tech Support          0\n",
       "Streaming TV          0\n",
       "Streaming Movies      0\n",
       "Contract              0\n",
       "Paperless Billing     0\n",
       "Payment Method        0\n",
       "Monthly Charges       0\n",
       "Total Charges        82\n",
       "Churn Label           0\n",
       "Churn Value           0\n",
       "Churn Score           0\n",
       "CLTV                  0\n",
       "Churn Reason          0\n",
       "dtype: int64"
      ]
     },
     "execution_count": 15,
     "metadata": {},
     "output_type": "execute_result"
    }
   ],
   "source": [
    "df.isna().sum()"
   ]
  },
  {
   "cell_type": "code",
   "execution_count": 16,
   "id": "c4b8ea35",
   "metadata": {},
   "outputs": [],
   "source": [
    "df= df.dropna()"
   ]
  },
  {
   "cell_type": "markdown",
   "id": "b4adfd2c",
   "metadata": {},
   "source": [
    "# Data Inspection - Statistical View"
   ]
  },
  {
   "cell_type": "code",
   "execution_count": 17,
   "id": "edf809a3",
   "metadata": {},
   "outputs": [
    {
     "data": {
      "text/plain": [
       "CustomerID           49918\n",
       "Count                49918\n",
       "Country              49918\n",
       "State                49918\n",
       "City                 49918\n",
       "Zip Code             49918\n",
       "Gender               49918\n",
       "Senior Citizen       49918\n",
       "Partner              49918\n",
       "Dependents           49918\n",
       "Tenure Months        49918\n",
       "Phone Service        49918\n",
       "Multiple Lines       49918\n",
       "Internet Service     49918\n",
       "Online Security      49918\n",
       "Online Backup        49918\n",
       "Device Protection    49918\n",
       "Tech Support         49918\n",
       "Streaming TV         49918\n",
       "Streaming Movies     49918\n",
       "Contract             49918\n",
       "Paperless Billing    49918\n",
       "Payment Method       49918\n",
       "Monthly Charges      49918\n",
       "Total Charges        49918\n",
       "Churn Label          49918\n",
       "Churn Value          49918\n",
       "Churn Score          49918\n",
       "CLTV                 49918\n",
       "Churn Reason         49918\n",
       "dtype: int64"
      ]
     },
     "execution_count": 17,
     "metadata": {},
     "output_type": "execute_result"
    }
   ],
   "source": [
    "df.count()"
   ]
  },
  {
   "cell_type": "code",
   "execution_count": 18,
   "id": "081fd5f3",
   "metadata": {},
   "outputs": [
    {
     "data": {
      "text/html": [
       "<div>\n",
       "<style scoped>\n",
       "    .dataframe tbody tr th:only-of-type {\n",
       "        vertical-align: middle;\n",
       "    }\n",
       "\n",
       "    .dataframe tbody tr th {\n",
       "        vertical-align: top;\n",
       "    }\n",
       "\n",
       "    .dataframe thead th {\n",
       "        text-align: right;\n",
       "    }\n",
       "</style>\n",
       "<table border=\"1\" class=\"dataframe\">\n",
       "  <thead>\n",
       "    <tr style=\"text-align: right;\">\n",
       "      <th></th>\n",
       "      <th>Count</th>\n",
       "      <th>Zip Code</th>\n",
       "      <th>Senior Citizen</th>\n",
       "      <th>Partner</th>\n",
       "      <th>Dependents</th>\n",
       "      <th>Tenure Months</th>\n",
       "      <th>Paperless Billing</th>\n",
       "      <th>Monthly Charges</th>\n",
       "      <th>Total Charges</th>\n",
       "      <th>Churn Label</th>\n",
       "      <th>Churn Value</th>\n",
       "      <th>Churn Score</th>\n",
       "      <th>CLTV</th>\n",
       "    </tr>\n",
       "  </thead>\n",
       "  <tbody>\n",
       "    <tr>\n",
       "      <th>count</th>\n",
       "      <td>49918.0</td>\n",
       "      <td>49918.000000</td>\n",
       "      <td>49918.000000</td>\n",
       "      <td>49918.000000</td>\n",
       "      <td>49918.000000</td>\n",
       "      <td>49918.000000</td>\n",
       "      <td>49918.000000</td>\n",
       "      <td>49918.000000</td>\n",
       "      <td>49918.000000</td>\n",
       "      <td>49918.000000</td>\n",
       "      <td>49918.000000</td>\n",
       "      <td>49918.000000</td>\n",
       "      <td>49918.000000</td>\n",
       "    </tr>\n",
       "    <tr>\n",
       "      <th>mean</th>\n",
       "      <td>1.0</td>\n",
       "      <td>93513.506594</td>\n",
       "      <td>0.163328</td>\n",
       "      <td>0.482611</td>\n",
       "      <td>0.229376</td>\n",
       "      <td>34.283528</td>\n",
       "      <td>0.593073</td>\n",
       "      <td>65.184031</td>\n",
       "      <td>2294.399408</td>\n",
       "      <td>0.269302</td>\n",
       "      <td>0.391812</td>\n",
       "      <td>58.839581</td>\n",
       "      <td>4404.374938</td>\n",
       "    </tr>\n",
       "    <tr>\n",
       "      <th>std</th>\n",
       "      <td>0.0</td>\n",
       "      <td>1863.632281</td>\n",
       "      <td>0.369668</td>\n",
       "      <td>0.499703</td>\n",
       "      <td>0.420436</td>\n",
       "      <td>21.887037</td>\n",
       "      <td>0.491266</td>\n",
       "      <td>29.511178</td>\n",
       "      <td>2277.941587</td>\n",
       "      <td>0.443601</td>\n",
       "      <td>0.332403</td>\n",
       "      <td>21.495949</td>\n",
       "      <td>1177.498563</td>\n",
       "    </tr>\n",
       "    <tr>\n",
       "      <th>min</th>\n",
       "      <td>1.0</td>\n",
       "      <td>86023.580000</td>\n",
       "      <td>0.000000</td>\n",
       "      <td>0.000000</td>\n",
       "      <td>0.000000</td>\n",
       "      <td>0.000000</td>\n",
       "      <td>0.000000</td>\n",
       "      <td>0.020000</td>\n",
       "      <td>18.800000</td>\n",
       "      <td>0.000000</td>\n",
       "      <td>0.000000</td>\n",
       "      <td>0.020000</td>\n",
       "      <td>16.600000</td>\n",
       "    </tr>\n",
       "    <tr>\n",
       "      <th>25%</th>\n",
       "      <td>1.0</td>\n",
       "      <td>92223.000000</td>\n",
       "      <td>0.000000</td>\n",
       "      <td>0.000000</td>\n",
       "      <td>0.000000</td>\n",
       "      <td>16.470000</td>\n",
       "      <td>0.000000</td>\n",
       "      <td>44.102500</td>\n",
       "      <td>399.450000</td>\n",
       "      <td>0.000000</td>\n",
       "      <td>0.110000</td>\n",
       "      <td>43.740000</td>\n",
       "      <td>3597.495000</td>\n",
       "    </tr>\n",
       "    <tr>\n",
       "      <th>50%</th>\n",
       "      <td>1.0</td>\n",
       "      <td>93526.575000</td>\n",
       "      <td>0.000000</td>\n",
       "      <td>0.000000</td>\n",
       "      <td>0.000000</td>\n",
       "      <td>32.360000</td>\n",
       "      <td>1.000000</td>\n",
       "      <td>65.500000</td>\n",
       "      <td>1400.550000</td>\n",
       "      <td>0.000000</td>\n",
       "      <td>0.320000</td>\n",
       "      <td>59.025000</td>\n",
       "      <td>4423.040000</td>\n",
       "    </tr>\n",
       "    <tr>\n",
       "      <th>75%</th>\n",
       "      <td>1.0</td>\n",
       "      <td>94864.442500</td>\n",
       "      <td>0.000000</td>\n",
       "      <td>1.000000</td>\n",
       "      <td>0.000000</td>\n",
       "      <td>49.667500</td>\n",
       "      <td>1.000000</td>\n",
       "      <td>85.950000</td>\n",
       "      <td>3836.300000</td>\n",
       "      <td>1.000000</td>\n",
       "      <td>0.600000</td>\n",
       "      <td>73.720000</td>\n",
       "      <td>5232.595000</td>\n",
       "    </tr>\n",
       "    <tr>\n",
       "      <th>max</th>\n",
       "      <td>1.0</td>\n",
       "      <td>101524.940000</td>\n",
       "      <td>1.000000</td>\n",
       "      <td>1.000000</td>\n",
       "      <td>1.000000</td>\n",
       "      <td>136.790000</td>\n",
       "      <td>1.000000</td>\n",
       "      <td>188.980000</td>\n",
       "      <td>8684.800000</td>\n",
       "      <td>1.000000</td>\n",
       "      <td>2.150000</td>\n",
       "      <td>165.070000</td>\n",
       "      <td>8989.740000</td>\n",
       "    </tr>\n",
       "  </tbody>\n",
       "</table>\n",
       "</div>"
      ],
      "text/plain": [
       "         Count       Zip Code  Senior Citizen       Partner    Dependents  \\\n",
       "count  49918.0   49918.000000    49918.000000  49918.000000  49918.000000   \n",
       "mean       1.0   93513.506594        0.163328      0.482611      0.229376   \n",
       "std        0.0    1863.632281        0.369668      0.499703      0.420436   \n",
       "min        1.0   86023.580000        0.000000      0.000000      0.000000   \n",
       "25%        1.0   92223.000000        0.000000      0.000000      0.000000   \n",
       "50%        1.0   93526.575000        0.000000      0.000000      0.000000   \n",
       "75%        1.0   94864.442500        0.000000      1.000000      0.000000   \n",
       "max        1.0  101524.940000        1.000000      1.000000      1.000000   \n",
       "\n",
       "       Tenure Months  Paperless Billing  Monthly Charges  Total Charges  \\\n",
       "count   49918.000000       49918.000000     49918.000000   49918.000000   \n",
       "mean       34.283528           0.593073        65.184031    2294.399408   \n",
       "std        21.887037           0.491266        29.511178    2277.941587   \n",
       "min         0.000000           0.000000         0.020000      18.800000   \n",
       "25%        16.470000           0.000000        44.102500     399.450000   \n",
       "50%        32.360000           1.000000        65.500000    1400.550000   \n",
       "75%        49.667500           1.000000        85.950000    3836.300000   \n",
       "max       136.790000           1.000000       188.980000    8684.800000   \n",
       "\n",
       "        Churn Label   Churn Value   Churn Score          CLTV  \n",
       "count  49918.000000  49918.000000  49918.000000  49918.000000  \n",
       "mean       0.269302      0.391812     58.839581   4404.374938  \n",
       "std        0.443601      0.332403     21.495949   1177.498563  \n",
       "min        0.000000      0.000000      0.020000     16.600000  \n",
       "25%        0.000000      0.110000     43.740000   3597.495000  \n",
       "50%        0.000000      0.320000     59.025000   4423.040000  \n",
       "75%        1.000000      0.600000     73.720000   5232.595000  \n",
       "max        1.000000      2.150000    165.070000   8989.740000  "
      ]
     },
     "execution_count": 18,
     "metadata": {},
     "output_type": "execute_result"
    }
   ],
   "source": [
    "df.describe()"
   ]
  },
  {
   "cell_type": "code",
   "execution_count": 19,
   "id": "c6c838be",
   "metadata": {},
   "outputs": [
    {
     "data": {
      "text/html": [
       "<div>\n",
       "<style scoped>\n",
       "    .dataframe tbody tr th:only-of-type {\n",
       "        vertical-align: middle;\n",
       "    }\n",
       "\n",
       "    .dataframe tbody tr th {\n",
       "        vertical-align: top;\n",
       "    }\n",
       "\n",
       "    .dataframe thead tr th {\n",
       "        text-align: left;\n",
       "    }\n",
       "\n",
       "    .dataframe thead tr:last-of-type th {\n",
       "        text-align: right;\n",
       "    }\n",
       "</style>\n",
       "<table border=\"1\" class=\"dataframe\">\n",
       "  <thead>\n",
       "    <tr>\n",
       "      <th></th>\n",
       "      <th colspan=\"8\" halign=\"left\">Count</th>\n",
       "      <th colspan=\"2\" halign=\"left\">Zip Code</th>\n",
       "      <th>...</th>\n",
       "      <th colspan=\"2\" halign=\"left\">Churn Score</th>\n",
       "      <th colspan=\"8\" halign=\"left\">CLTV</th>\n",
       "    </tr>\n",
       "    <tr>\n",
       "      <th></th>\n",
       "      <th>count</th>\n",
       "      <th>mean</th>\n",
       "      <th>std</th>\n",
       "      <th>min</th>\n",
       "      <th>25%</th>\n",
       "      <th>50%</th>\n",
       "      <th>75%</th>\n",
       "      <th>max</th>\n",
       "      <th>count</th>\n",
       "      <th>mean</th>\n",
       "      <th>...</th>\n",
       "      <th>75%</th>\n",
       "      <th>max</th>\n",
       "      <th>count</th>\n",
       "      <th>mean</th>\n",
       "      <th>std</th>\n",
       "      <th>min</th>\n",
       "      <th>25%</th>\n",
       "      <th>50%</th>\n",
       "      <th>75%</th>\n",
       "      <th>max</th>\n",
       "    </tr>\n",
       "    <tr>\n",
       "      <th>Churn Label</th>\n",
       "      <th></th>\n",
       "      <th></th>\n",
       "      <th></th>\n",
       "      <th></th>\n",
       "      <th></th>\n",
       "      <th></th>\n",
       "      <th></th>\n",
       "      <th></th>\n",
       "      <th></th>\n",
       "      <th></th>\n",
       "      <th></th>\n",
       "      <th></th>\n",
       "      <th></th>\n",
       "      <th></th>\n",
       "      <th></th>\n",
       "      <th></th>\n",
       "      <th></th>\n",
       "      <th></th>\n",
       "      <th></th>\n",
       "      <th></th>\n",
       "      <th></th>\n",
       "    </tr>\n",
       "  </thead>\n",
       "  <tbody>\n",
       "    <tr>\n",
       "      <th>0</th>\n",
       "      <td>36475.0</td>\n",
       "      <td>1.0</td>\n",
       "      <td>0.0</td>\n",
       "      <td>1.0</td>\n",
       "      <td>1.0</td>\n",
       "      <td>1.0</td>\n",
       "      <td>1.0</td>\n",
       "      <td>1.0</td>\n",
       "      <td>36475.0</td>\n",
       "      <td>93513.341641</td>\n",
       "      <td>...</td>\n",
       "      <td>72.07</td>\n",
       "      <td>165.07</td>\n",
       "      <td>36475.0</td>\n",
       "      <td>4416.909949</td>\n",
       "      <td>1175.861691</td>\n",
       "      <td>16.60</td>\n",
       "      <td>3613.17</td>\n",
       "      <td>4434.83</td>\n",
       "      <td>5243.575</td>\n",
       "      <td>8965.46</td>\n",
       "    </tr>\n",
       "    <tr>\n",
       "      <th>1</th>\n",
       "      <td>13443.0</td>\n",
       "      <td>1.0</td>\n",
       "      <td>0.0</td>\n",
       "      <td>1.0</td>\n",
       "      <td>1.0</td>\n",
       "      <td>1.0</td>\n",
       "      <td>1.0</td>\n",
       "      <td>1.0</td>\n",
       "      <td>13443.0</td>\n",
       "      <td>93513.954162</td>\n",
       "      <td>...</td>\n",
       "      <td>77.85</td>\n",
       "      <td>150.69</td>\n",
       "      <td>13443.0</td>\n",
       "      <td>4370.363591</td>\n",
       "      <td>1181.302394</td>\n",
       "      <td>209.24</td>\n",
       "      <td>3558.89</td>\n",
       "      <td>4390.68</td>\n",
       "      <td>5206.510</td>\n",
       "      <td>8989.74</td>\n",
       "    </tr>\n",
       "  </tbody>\n",
       "</table>\n",
       "<p>2 rows × 96 columns</p>\n",
       "</div>"
      ],
      "text/plain": [
       "               Count                                    Zip Code  \\\n",
       "               count mean  std  min  25%  50%  75%  max    count   \n",
       "Churn Label                                                        \n",
       "0            36475.0  1.0  0.0  1.0  1.0  1.0  1.0  1.0  36475.0   \n",
       "1            13443.0  1.0  0.0  1.0  1.0  1.0  1.0  1.0  13443.0   \n",
       "\n",
       "                           ... Churn Score             CLTV               \\\n",
       "                     mean  ...         75%     max    count         mean   \n",
       "Churn Label                ...                                             \n",
       "0            93513.341641  ...       72.07  165.07  36475.0  4416.909949   \n",
       "1            93513.954162  ...       77.85  150.69  13443.0  4370.363591   \n",
       "\n",
       "                                                                       \n",
       "                     std     min      25%      50%       75%      max  \n",
       "Churn Label                                                            \n",
       "0            1175.861691   16.60  3613.17  4434.83  5243.575  8965.46  \n",
       "1            1181.302394  209.24  3558.89  4390.68  5206.510  8989.74  \n",
       "\n",
       "[2 rows x 96 columns]"
      ]
     },
     "execution_count": 19,
     "metadata": {},
     "output_type": "execute_result"
    }
   ],
   "source": [
    "df.groupby('Churn Label').describe()"
   ]
  },
  {
   "cell_type": "markdown",
   "id": "409d1eea",
   "metadata": {},
   "source": [
    "# Exploratory Data Analysis"
   ]
  },
  {
   "cell_type": "markdown",
   "id": "55899358",
   "metadata": {},
   "source": [
    "# 1. Customer Demographics"
   ]
  },
  {
   "cell_type": "markdown",
   "id": "170a713f",
   "metadata": {},
   "source": [
    "# What’s the distribution of customers by gender, senior citizen status, and dependents?"
   ]
  },
  {
   "cell_type": "code",
   "execution_count": 20,
   "id": "1fad0514",
   "metadata": {},
   "outputs": [
    {
     "data": {
      "text/plain": [
       "Gender\n",
       "Female    24812\n",
       "Male      25106\n",
       "dtype: int64"
      ]
     },
     "execution_count": 20,
     "metadata": {},
     "output_type": "execute_result"
    }
   ],
   "source": [
    "d= df.groupby('Gender').size()\n",
    "d"
   ]
  },
  {
   "cell_type": "code",
   "execution_count": 21,
   "id": "0e1b2f18",
   "metadata": {},
   "outputs": [
    {
     "data": {
      "text/plain": [
       "<Axes: >"
      ]
     },
     "execution_count": 21,
     "metadata": {},
     "output_type": "execute_result"
    },
    {
     "data": {
      "image/png": "[encoded data removed]",
      "text/plain": [
       "<Figure size 640x480 with 1 Axes>"
      ]
     },
     "metadata": {},
     "output_type": "display_data"
    }
   ],
   "source": [
    "d.plot(kind='pie',legend=True)\n"
   ]
  },
  {
   "cell_type": "code",
   "execution_count": 22,
   "id": "c24acc24",
   "metadata": {},
   "outputs": [
    {
     "data": {
      "text/plain": [
       "Senior Citizen\n",
       "0    41765\n",
       "1     8153\n",
       "dtype: int64"
      ]
     },
     "execution_count": 22,
     "metadata": {},
     "output_type": "execute_result"
    }
   ],
   "source": [
    "d= df.groupby('Senior Citizen').size()\n",
    "d"
   ]
  },
  {
   "cell_type": "code",
   "execution_count": 23,
   "id": "91b8bc1c",
   "metadata": {},
   "outputs": [
    {
     "data": {
      "text/plain": [
       "<Axes: ylabel='Senior Citizen'>"
      ]
     },
     "execution_count": 23,
     "metadata": {},
     "output_type": "execute_result"
    },
    {
     "data": {
      "image/png": "[encoded data removed]",
      "text/plain": [
       "<Figure size 640x480 with 1 Axes>"
      ]
     },
     "metadata": {},
     "output_type": "display_data"
    }
   ],
   "source": [
    "d.plot(kind='barh')"
   ]
  },
  {
   "cell_type": "code",
   "execution_count": 24,
   "id": "66bc1d28",
   "metadata": {},
   "outputs": [
    {
     "data": {
      "text/plain": [
       "Dependents\n",
       "0    38468\n",
       "1    11450\n",
       "dtype: int64"
      ]
     },
     "execution_count": 24,
     "metadata": {},
     "output_type": "execute_result"
    }
   ],
   "source": [
    "d= df.groupby('Dependents').size()\n",
    "d"
   ]
  },
  {
   "cell_type": "code",
   "execution_count": 25,
   "id": "e8735e6d",
   "metadata": {},
   "outputs": [
    {
     "data": {
      "text/plain": [
       "<Axes: ylabel='Dependents'>"
      ]
     },
     "execution_count": 25,
     "metadata": {},
     "output_type": "execute_result"
    },
    {
     "data": {
      "image/png": "[encoded data removed]",
      "text/plain": [
       "<Figure size 640x480 with 1 Axes>"
      ]
     },
     "metadata": {},
     "output_type": "display_data"
    }
   ],
   "source": [
    "d.plot(kind='barh')"
   ]
  },
  {
   "cell_type": "markdown",
   "id": "1f63530b",
   "metadata": {},
   "source": [
    "# Do older customers (senior citizens) churn more than younger ones?"
   ]
  },
  {
   "cell_type": "code",
   "execution_count": 26,
   "id": "b46d3aed",
   "metadata": {},
   "outputs": [
    {
     "data": {
      "text/plain": [
       "Senior Citizen\n",
       "0    11103\n",
       "1     2340\n",
       "Name: Churn Label, dtype: int64"
      ]
     },
     "execution_count": 26,
     "metadata": {},
     "output_type": "execute_result"
    }
   ],
   "source": [
    "df1 = df[df['Churn Label']==1]\n",
    "c= df1.groupby('Senior Citizen')['Churn Label'].size()\n",
    "c"
   ]
  },
  {
   "cell_type": "code",
   "execution_count": 27,
   "id": "710e815a",
   "metadata": {},
   "outputs": [
    {
     "data": {
      "image/png": "[encoded data removed]",
      "text/plain": [
       "<Figure size 640x480 with 1 Axes>"
      ]
     },
     "metadata": {},
     "output_type": "display_data"
    }
   ],
   "source": [
    "sns.countplot(x='Senior Citizen',  data= df1, hue='Senior Citizen', palette='rocket')\n",
    "plt.title(\"Churn Count of Senior Citizen\")\n",
    "plt.xlabel(\"Senior Citizen\")\n",
    "plt.ylabel(\"Churn Count\")\n",
    "\n",
    "plt.show()"
   ]
  },
  {
   "cell_type": "markdown",
   "id": "835ac2c6",
   "metadata": {},
   "source": [
    "# Is there a churn difference between customers with/without dependents or partners?"
   ]
  },
  {
   "cell_type": "code",
   "execution_count": 28,
   "id": "09c40eec",
   "metadata": {},
   "outputs": [
    {
     "data": {
      "text/plain": [
       "Dependents\n",
       "0    10657\n",
       "1     2786\n",
       "dtype: int64"
      ]
     },
     "execution_count": 28,
     "metadata": {},
     "output_type": "execute_result"
    }
   ],
   "source": [
    "dep = df1.groupby('Dependents').size()\n",
    "dep"
   ]
  },
  {
   "cell_type": "code",
   "execution_count": 29,
   "id": "f397457e",
   "metadata": {},
   "outputs": [
    {
     "data": {
      "image/png": "[encoded data removed]",
      "text/plain": [
       "<Figure size 640x480 with 1 Axes>"
      ]
     },
     "metadata": {},
     "output_type": "display_data"
    }
   ],
   "source": [
    "sns.countplot(x='Dependents',  data= df1, hue='Dependents', palette='rocket')\n",
    "plt.title(\"Churn Count of Dependents\")\n",
    "plt.xlabel(\"Dependents\")\n",
    "plt.ylabel(\"Churn Count\")\n",
    "\n",
    "plt.show()"
   ]
  },
  {
   "cell_type": "code",
   "execution_count": 30,
   "id": "16e32b86",
   "metadata": {},
   "outputs": [
    {
     "data": {
      "text/plain": [
       "Partner\n",
       "0    7181\n",
       "1    6262\n",
       "dtype: int64"
      ]
     },
     "execution_count": 30,
     "metadata": {},
     "output_type": "execute_result"
    }
   ],
   "source": [
    "par = df1.groupby('Partner').size()\n",
    "par"
   ]
  },
  {
   "cell_type": "code",
   "execution_count": 31,
   "id": "e33c3016",
   "metadata": {},
   "outputs": [
    {
     "data": {
      "image/png": "[encoded data removed]",
      "text/plain": [
       "<Figure size 640x480 with 1 Axes>"
      ]
     },
     "metadata": {},
     "output_type": "display_data"
    }
   ],
   "source": [
    "sns.countplot(x='Partner',  data= df1, hue='Partner', palette='rocket')\n",
    "plt.title(\"Churn Count of Partner\")\n",
    "plt.xlabel(\"Partner\")\n",
    "plt.ylabel(\"Churn Count\")\n",
    "\n",
    "plt.show()"
   ]
  },
  {
   "cell_type": "markdown",
   "id": "4d16d05b",
   "metadata": {},
   "source": [
    "# 2. Geographic Insights"
   ]
  },
  {
   "cell_type": "markdown",
   "id": "37486d20",
   "metadata": {},
   "source": [
    "# Which cities have the highest churn rates?"
   ]
  },
  {
   "cell_type": "code",
   "execution_count": 32,
   "id": "7338120e",
   "metadata": {},
   "outputs": [
    {
     "data": {
      "text/plain": [
       "City\n",
       "Los Angeles      561\n",
       "San Diego        274\n",
       "San Jose         226\n",
       "San Francisco    209\n",
       "Sacramento       205\n",
       "                ... \n",
       "Atascadero         2\n",
       "Bridgeport         2\n",
       "San Andreas        2\n",
       "Richvale           1\n",
       "Del Rey            1\n",
       "Length: 1129, dtype: int64"
      ]
     },
     "execution_count": 32,
     "metadata": {},
     "output_type": "execute_result"
    }
   ],
   "source": [
    "cities = df1.groupby('City').size().sort_values(ascending=False)\n",
    "cities\n"
   ]
  },
  {
   "cell_type": "code",
   "execution_count": 33,
   "id": "3c9b12eb",
   "metadata": {},
   "outputs": [
    {
     "data": {
      "text/plain": [
       "<Axes: xlabel='City'>"
      ]
     },
     "execution_count": 33,
     "metadata": {},
     "output_type": "execute_result"
    },
    {
     "data": {
      "image/png": "[encoded data removed]",
      "text/plain": [
       "<Figure size 640x480 with 1 Axes>"
      ]
     },
     "metadata": {},
     "output_type": "display_data"
    }
   ],
   "source": [
    "city = cities.head(20)\n",
    "city.plot(kind='bar')"
   ]
  },
  {
   "cell_type": "markdown",
   "id": "5eda7787",
   "metadata": {},
   "source": [
    "# Are churn patterns concentrated in specific zip codes or regions?"
   ]
  },
  {
   "cell_type": "code",
   "execution_count": 34,
   "id": "7e7133da",
   "metadata": {},
   "outputs": [
    {
     "data": {
      "text/plain": [
       "12656"
      ]
     },
     "execution_count": 34,
     "metadata": {},
     "output_type": "execute_result"
    }
   ],
   "source": [
    "df1['Zip Code'].nunique()"
   ]
  },
  {
   "cell_type": "code",
   "execution_count": 35,
   "id": "4e6656cf",
   "metadata": {},
   "outputs": [
    {
     "data": {
      "text/plain": [
       "Zip Code\n",
       "90020.00     5\n",
       "91601.00     4\n",
       "95984.00     4\n",
       "92273.00     4\n",
       "94014.00     4\n",
       "            ..\n",
       "92740.01     1\n",
       "92740.46     1\n",
       "92740.51     1\n",
       "92740.58     1\n",
       "101524.94    1\n",
       "Length: 12656, dtype: int64"
      ]
     },
     "execution_count": 35,
     "metadata": {},
     "output_type": "execute_result"
    }
   ],
   "source": [
    "zip= df1.groupby('Zip Code').size().sort_values(ascending=False)\n",
    "zip"
   ]
  },
  {
   "cell_type": "code",
   "execution_count": 36,
   "id": "17694bf8",
   "metadata": {},
   "outputs": [
    {
     "data": {
      "text/plain": [
       "<Axes: xlabel='Zip Code'>"
      ]
     },
     "execution_count": 36,
     "metadata": {},
     "output_type": "execute_result"
    },
    {
     "data": {
      "image/png": "[encoded data removed]",
      "text/plain": [
       "<Figure size 640x480 with 1 Axes>"
      ]
     },
     "metadata": {},
     "output_type": "display_data"
    }
   ],
   "source": [
    "zip_code = zip.head(15)\n",
    "zip_code.plot(kind='bar')\n"
   ]
  },
  {
   "cell_type": "markdown",
   "id": "c8af030a",
   "metadata": {},
   "source": [
    "# 3. Service Usage"
   ]
  },
  {
   "cell_type": "markdown",
   "id": "a42f8f9c",
   "metadata": {},
   "source": [
    "# How does churn vary by Internet service type (DSL, Fiber, None)?"
   ]
  },
  {
   "cell_type": "code",
   "execution_count": 37,
   "id": "e118d990",
   "metadata": {},
   "outputs": [
    {
     "data": {
      "text/plain": [
       "Index(['CustomerID', 'Count', 'Country', 'State', 'City', 'Zip Code', 'Gender',\n",
       "       'Senior Citizen', 'Partner', 'Dependents', 'Tenure Months',\n",
       "       'Phone Service', 'Multiple Lines', 'Internet Service',\n",
       "       'Online Security', 'Online Backup', 'Device Protection', 'Tech Support',\n",
       "       'Streaming TV', 'Streaming Movies', 'Contract', 'Paperless Billing',\n",
       "       'Payment Method', 'Monthly Charges', 'Total Charges', 'Churn Label',\n",
       "       'Churn Value', 'Churn Score', 'CLTV', 'Churn Reason'],\n",
       "      dtype='object')"
      ]
     },
     "execution_count": 37,
     "metadata": {},
     "output_type": "execute_result"
    }
   ],
   "source": [
    "df1.columns"
   ]
  },
  {
   "cell_type": "code",
   "execution_count": 38,
   "id": "ad179f85",
   "metadata": {},
   "outputs": [
    {
     "data": {
      "text/plain": [
       "Internet Service\n",
       "DSL            4535\n",
       "Fiber optic    6214\n",
       "No             2694\n",
       "dtype: int64"
      ]
     },
     "execution_count": 38,
     "metadata": {},
     "output_type": "execute_result"
    }
   ],
   "source": [
    "inter= df1.groupby('Internet Service').size()\n",
    "inter"
   ]
  },
  {
   "cell_type": "code",
   "execution_count": 39,
   "id": "fc2e78bf",
   "metadata": {},
   "outputs": [
    {
     "data": {
      "image/png": "[encoded data removed]",
      "text/plain": [
       "<Figure size 640x480 with 1 Axes>"
      ]
     },
     "metadata": {},
     "output_type": "display_data"
    }
   ],
   "source": [
    "sns.countplot(x='Internet Service',  data= df1, hue='Internet Service', palette='Reds')\n",
    "plt.title(\"Churn Count of Internet Service\")\n",
    "plt.xlabel(\"Internet Service\")\n",
    "plt.ylabel(\"Churn Count\")\n",
    "\n",
    "plt.show()"
   ]
  },
  {
   "cell_type": "markdown",
   "id": "6bf00c16",
   "metadata": {},
   "source": [
    "# Does having multiple services (Streaming, Online Backup, Tech Support) reduce churn?"
   ]
  },
  {
   "cell_type": "code",
   "execution_count": 40,
   "id": "633cdc5f",
   "metadata": {},
   "outputs": [
    {
     "name": "stdout",
     "output_type": "stream",
     "text": [
      "                     Online Security  Online Backup  Device Protection  \\\n",
      "No                          0.413596       0.410978           0.408870   \n",
      "No internet service         0.366442       0.365221           0.364132   \n",
      "Yes                         0.373240       0.384053           0.387516   \n",
      "\n",
      "                     Tech Support  Streaming TV  Streaming Movies  \n",
      "No                       0.414865      0.400218          0.399818  \n",
      "No internet service      0.360551      0.369762          0.366749  \n",
      "Yes                      0.376885      0.395577          0.397634  \n"
     ]
    }
   ],
   "source": [
    "services = [\"Online Security\", \"Online Backup\", \"Device Protection\", \n",
    "            \"Tech Support\", \"Streaming TV\", \"Streaming Movies\"]\n",
    "\n",
    "churn_by_service = {}\n",
    "\n",
    "for col in services:\n",
    "    churn_rate = df.groupby(col)[\"Churn Value\"].mean()\n",
    "    churn_by_service[col] = churn_rate\n",
    "\n",
    "# Convert dictionary to DataFrame for readability\n",
    "churn_by_service_df = pd.DataFrame(churn_by_service)\n",
    "\n",
    "print(churn_by_service_df)\n",
    "\n",
    "\n"
   ]
  },
  {
   "cell_type": "markdown",
   "id": "0800df3c",
   "metadata": {},
   "source": [
    "# Do customers with phone service or multiple lines churn more/less?"
   ]
  },
  {
   "cell_type": "code",
   "execution_count": 41,
   "id": "e843a73f",
   "metadata": {},
   "outputs": [
    {
     "data": {
      "text/plain": [
       "Phone Service\n",
       "No      1303\n",
       "Yes    12140\n",
       "dtype: int64"
      ]
     },
     "execution_count": 41,
     "metadata": {},
     "output_type": "execute_result"
    }
   ],
   "source": [
    "phone= df1.groupby('Phone Service').size()\n",
    "phone"
   ]
  },
  {
   "cell_type": "code",
   "execution_count": 42,
   "id": "f6d84444",
   "metadata": {},
   "outputs": [
    {
     "data": {
      "text/plain": [
       "Multiple Lines\n",
       "No                  6449\n",
       "No phone service    1325\n",
       "Yes                 5669\n",
       "dtype: int64"
      ]
     },
     "execution_count": 42,
     "metadata": {},
     "output_type": "execute_result"
    }
   ],
   "source": [
    "mul = df1.groupby('Multiple Lines').size()\n",
    "mul"
   ]
  },
  {
   "cell_type": "code",
   "execution_count": 43,
   "id": "8ef7ecd6",
   "metadata": {},
   "outputs": [
    {
     "data": {
      "image/png": "[encoded data removed]",
      "text/plain": [
       "<Figure size 1600x400 with 2 Axes>"
      ]
     },
     "metadata": {},
     "output_type": "display_data"
    }
   ],
   "source": [
    "\n",
    "plt.figure(figsize=(16,4))\n",
    "plt.subplot(1,2,1)\n",
    "\n",
    "sns.countplot(x='Phone Service',  data= df1, hue='Phone Service', palette='Reds')\n",
    "plt.title(\"Churn Count of Phone Service\")\n",
    "plt.xlabel(\"Phone Service\")\n",
    "plt.ylabel(\"Churn Count\")\n",
    "\n",
    "\n",
    "\n",
    "plt.subplot(1,2,2)\n",
    "\n",
    "sns.countplot(x='Multiple Lines',  data= df1, hue='Multiple Lines', palette='Blues')\n",
    "plt.title(\"Churn Count of Multiple Lines\")\n",
    "plt.xlabel(\"Multiple Lines\")\n",
    "plt.ylabel(\"Churn Count\")\n",
    "\n",
    "plt.show()\n"
   ]
  },
  {
   "cell_type": "code",
   "execution_count": 44,
   "id": "7eeaa0a9",
   "metadata": {},
   "outputs": [],
   "source": [
    "## Using Phone Services has high churn in comparison to Multiple Line."
   ]
  },
  {
   "cell_type": "markdown",
   "id": "a80dfc85",
   "metadata": {},
   "source": [
    "# 4. Contract & Billing"
   ]
  },
  {
   "cell_type": "markdown",
   "id": "401621ed",
   "metadata": {},
   "source": [
    "# What’s the churn rate by contract type (Month-to-month, 1 year, 2 years)?"
   ]
  },
  {
   "cell_type": "code",
   "execution_count": 45,
   "id": "24d9e7b6",
   "metadata": {},
   "outputs": [
    {
     "data": {
      "text/plain": [
       "Tenure Months\n",
       "1.00      380\n",
       "2.00      125\n",
       "3.00       96\n",
       "4.00       83\n",
       "5.00       69\n",
       "         ... \n",
       "35.48       1\n",
       "35.54       1\n",
       "35.55       1\n",
       "35.57       1\n",
       "124.90      1\n",
       "Length: 6027, dtype: int64"
      ]
     },
     "execution_count": 45,
     "metadata": {},
     "output_type": "execute_result"
    }
   ],
   "source": [
    "tenure = df1.groupby('Tenure Months').size().sort_values(ascending=False)\n",
    "tenure"
   ]
  },
  {
   "cell_type": "markdown",
   "id": "b255e069",
   "metadata": {},
   "source": [
    "# How does payment method (Credit card, Bank transfer, Electronic check) impact churn?"
   ]
  },
  {
   "cell_type": "code",
   "execution_count": 46,
   "id": "1a4f4193",
   "metadata": {},
   "outputs": [
    {
     "data": {
      "text/plain": [
       "Payment Method\n",
       "Electronic check             4994\n",
       "Mailed check                 3013\n",
       "Bank transfer (automatic)    2811\n",
       "Credit card (automatic)      2625\n",
       "dtype: int64"
      ]
     },
     "execution_count": 46,
     "metadata": {},
     "output_type": "execute_result"
    }
   ],
   "source": [
    "method = df1.groupby('Payment Method').size().sort_values(ascending=False)\n",
    "method"
   ]
  },
  {
   "cell_type": "code",
   "execution_count": 47,
   "id": "fd732eff",
   "metadata": {},
   "outputs": [
    {
     "data": {
      "image/png": "[encoded data removed]",
      "text/plain": [
       "<Figure size 640x480 with 1 Axes>"
      ]
     },
     "metadata": {},
     "output_type": "display_data"
    }
   ],
   "source": [
    "sns.countplot(x='Payment Method',  data= df1, hue='Payment Method', palette='Blues')\n",
    "plt.title(\"Churn Count of Payment Method\")\n",
    "plt.xticks(rotation= 45)\n",
    "plt.xlabel(\"Payment Method\")\n",
    "plt.ylabel(\"Churn Count\")\n",
    "\n",
    "plt.show()"
   ]
  },
  {
   "cell_type": "markdown",
   "id": "9d9a0ddc",
   "metadata": {},
   "source": [
    "# Does paperless billing increase churn?"
   ]
  },
  {
   "cell_type": "code",
   "execution_count": 48,
   "id": "aef4b3c4",
   "metadata": {},
   "outputs": [
    {
     "data": {
      "text/plain": [
       "Paperless Billing\n",
       "0    5180\n",
       "1    8263\n",
       "dtype: int64"
      ]
     },
     "execution_count": 48,
     "metadata": {},
     "output_type": "execute_result"
    }
   ],
   "source": [
    "paper = df1.groupby('Paperless Billing').size()\n",
    "paper"
   ]
  },
  {
   "cell_type": "markdown",
   "id": "f64a92d8",
   "metadata": {},
   "source": [
    "# 5. Financial Metrics"
   ]
  },
  {
   "cell_type": "markdown",
   "id": "88a9e90a",
   "metadata": {},
   "source": [
    "# What’s the average Monthly Charges & Total Charges for churned vs retained customers?"
   ]
  },
  {
   "cell_type": "code",
   "execution_count": 49,
   "id": "c7f6bc25",
   "metadata": {},
   "outputs": [
    {
     "data": {
      "text/html": [
       "<div>\n",
       "<style scoped>\n",
       "    .dataframe tbody tr th:only-of-type {\n",
       "        vertical-align: middle;\n",
       "    }\n",
       "\n",
       "    .dataframe tbody tr th {\n",
       "        vertical-align: top;\n",
       "    }\n",
       "\n",
       "    .dataframe thead th {\n",
       "        text-align: right;\n",
       "    }\n",
       "</style>\n",
       "<table border=\"1\" class=\"dataframe\">\n",
       "  <thead>\n",
       "    <tr style=\"text-align: right;\">\n",
       "      <th></th>\n",
       "      <th>Churn Label</th>\n",
       "      <th>Monthly Charges</th>\n",
       "    </tr>\n",
       "  </thead>\n",
       "  <tbody>\n",
       "    <tr>\n",
       "      <th>0</th>\n",
       "      <td>0</td>\n",
       "      <td>64.672885</td>\n",
       "    </tr>\n",
       "    <tr>\n",
       "      <th>1</th>\n",
       "      <td>1</td>\n",
       "      <td>66.570927</td>\n",
       "    </tr>\n",
       "  </tbody>\n",
       "</table>\n",
       "</div>"
      ],
      "text/plain": [
       "   Churn Label  Monthly Charges\n",
       "0            0        64.672885\n",
       "1            1        66.570927"
      ]
     },
     "execution_count": 49,
     "metadata": {},
     "output_type": "execute_result"
    }
   ],
   "source": [
    "# Monthly Charges\n",
    "\n",
    "mon = df.groupby('Churn Label',as_index=False)['Monthly Charges'].mean()\n",
    "mon"
   ]
  },
  {
   "cell_type": "code",
   "execution_count": 50,
   "id": "df1305ce",
   "metadata": {},
   "outputs": [
    {
     "data": {
      "text/html": [
       "<div>\n",
       "<style scoped>\n",
       "    .dataframe tbody tr th:only-of-type {\n",
       "        vertical-align: middle;\n",
       "    }\n",
       "\n",
       "    .dataframe tbody tr th {\n",
       "        vertical-align: top;\n",
       "    }\n",
       "\n",
       "    .dataframe thead th {\n",
       "        text-align: right;\n",
       "    }\n",
       "</style>\n",
       "<table border=\"1\" class=\"dataframe\">\n",
       "  <thead>\n",
       "    <tr style=\"text-align: right;\">\n",
       "      <th></th>\n",
       "      <th>Churn Label</th>\n",
       "      <th>Total Charges</th>\n",
       "    </tr>\n",
       "  </thead>\n",
       "  <tbody>\n",
       "    <tr>\n",
       "      <th>0</th>\n",
       "      <td>0</td>\n",
       "      <td>2336.810181</td>\n",
       "    </tr>\n",
       "    <tr>\n",
       "      <th>1</th>\n",
       "      <td>1</td>\n",
       "      <td>2179.325917</td>\n",
       "    </tr>\n",
       "  </tbody>\n",
       "</table>\n",
       "</div>"
      ],
      "text/plain": [
       "   Churn Label  Total Charges\n",
       "0            0    2336.810181\n",
       "1            1    2179.325917"
      ]
     },
     "execution_count": 50,
     "metadata": {},
     "output_type": "execute_result"
    }
   ],
   "source": [
    "# Total Charges\n",
    "\n",
    "total = df.groupby('Churn Label',as_index=False)['Total Charges'].mean()\n",
    "total"
   ]
  },
  {
   "cell_type": "code",
   "execution_count": 51,
   "id": "7bb01109",
   "metadata": {},
   "outputs": [
    {
     "data": {
      "image/png": "[encoded data removed]",
      "text/plain": [
       "<Figure size 1600x400 with 2 Axes>"
      ]
     },
     "metadata": {},
     "output_type": "display_data"
    }
   ],
   "source": [
    "plt.figure(figsize=(16,4))\n",
    "plt.subplot(1,2,1)\n",
    "\n",
    "sns.barplot(x='Churn Label',y= 'Monthly Charges'  ,  data= mon, hue='Churn Label', palette='Reds')\n",
    "plt.title(\"Avg Monthly Charges of Churn and Retained Customers\")\n",
    "plt.xlabel(\"Churn Label\")\n",
    "plt.ylabel('Avg Monthly Charges')\n",
    "\n",
    "\n",
    "\n",
    "plt.subplot(1,2,2)\n",
    "\n",
    "sns.barplot(x='Churn Label',y =\"Total Charges\" , data= total, hue='Churn Label', palette='Blues')\n",
    "plt.title(\"Avg Total Charges of Churn and Retained Customers\")\n",
    "plt.xlabel('Churn Label')\n",
    "plt.ylabel(\"Avg Total Charges\")\n",
    "\n",
    "plt.show()\n"
   ]
  },
  {
   "cell_type": "markdown",
   "id": "d2cee0a2",
   "metadata": {},
   "source": [
    "# Do high-paying customers churn more frequently?"
   ]
  },
  {
   "cell_type": "code",
   "execution_count": 52,
   "id": "86530ee3",
   "metadata": {},
   "outputs": [
    {
     "name": "stdout",
     "output_type": "stream",
     "text": [
      "   index SpendingCategory  Churn Value\n",
      "0      0              Low     0.375055\n",
      "1      1           Medium     0.400606\n",
      "2      2             High     0.399782\n"
     ]
    },
    {
     "name": "stderr",
     "output_type": "stream",
     "text": [
      "C:\\Users\\SHAURYA CHAND\\AppData\\Local\\Temp\\ipykernel_332408\\2236876942.py:7: FutureWarning: The default of observed=False is deprecated and will be changed to True in a future version of pandas. Pass observed=False to retain current behavior or observed=True to adopt the future default and silence this warning.\n",
      "  churn_by_spending = df.groupby('SpendingCategory',as_index=False)['Churn Value'].mean().reset_index()\n"
     ]
    },
    {
     "data": {
      "image/png": "[encoded data removed]",
      "text/plain": [
       "<Figure size 640x480 with 1 Axes>"
      ]
     },
     "metadata": {},
     "output_type": "display_data"
    }
   ],
   "source": [
    "\n",
    "# Create spending categories using quantiles\n",
    "df['SpendingCategory'] = pd.qcut(df['Monthly Charges'], \n",
    "                                 q=3, \n",
    "                                 labels=['Low', 'Medium', 'High'])\n",
    "\n",
    "# Calculate churn rate for each spending category\n",
    "churn_by_spending = df.groupby('SpendingCategory',as_index=False)['Churn Value'].mean().reset_index()\n",
    "\n",
    "print(churn_by_spending)\n",
    "\n",
    "\n",
    "sns.barplot(x='SpendingCategory', y='Churn Value', data=churn_by_spending, hue='SpendingCategory',palette='Greens')\n",
    "\n",
    "plt.xlabel(\"Spending Category (Monthly Charges)\")\n",
    "plt.ylabel(\"Churn Rate\")\n",
    "plt.title(\"Churn Rate vs Monthly Charges\")\n",
    "plt.show()\n"
   ]
  },
  {
   "cell_type": "markdown",
   "id": "0ee0847e",
   "metadata": {},
   "source": [
    "# What’s the CLTV (Customer Lifetime Value) difference between churned and retained customers?"
   ]
  },
  {
   "cell_type": "code",
   "execution_count": 53,
   "id": "1c7182bd",
   "metadata": {},
   "outputs": [
    {
     "data": {
      "text/html": [
       "<div>\n",
       "<style scoped>\n",
       "    .dataframe tbody tr th:only-of-type {\n",
       "        vertical-align: middle;\n",
       "    }\n",
       "\n",
       "    .dataframe tbody tr th {\n",
       "        vertical-align: top;\n",
       "    }\n",
       "\n",
       "    .dataframe thead th {\n",
       "        text-align: right;\n",
       "    }\n",
       "</style>\n",
       "<table border=\"1\" class=\"dataframe\">\n",
       "  <thead>\n",
       "    <tr style=\"text-align: right;\">\n",
       "      <th></th>\n",
       "      <th>Churn Label</th>\n",
       "      <th>CLTV</th>\n",
       "    </tr>\n",
       "  </thead>\n",
       "  <tbody>\n",
       "    <tr>\n",
       "      <th>0</th>\n",
       "      <td>0</td>\n",
       "      <td>1.611068e+08</td>\n",
       "    </tr>\n",
       "    <tr>\n",
       "      <th>1</th>\n",
       "      <td>1</td>\n",
       "      <td>5.875080e+07</td>\n",
       "    </tr>\n",
       "  </tbody>\n",
       "</table>\n",
       "</div>"
      ],
      "text/plain": [
       "   Churn Label          CLTV\n",
       "0            0  1.611068e+08\n",
       "1            1  5.875080e+07"
      ]
     },
     "execution_count": 53,
     "metadata": {},
     "output_type": "execute_result"
    }
   ],
   "source": [
    "cltv= df.groupby('Churn Label',as_index=False)['CLTV'].sum()\n",
    "cltv"
   ]
  },
  {
   "cell_type": "code",
   "execution_count": 54,
   "id": "e78f2732",
   "metadata": {},
   "outputs": [
    {
     "data": {
      "image/png": "[encoded data removed]",
      "text/plain": [
       "<Figure size 640x480 with 1 Axes>"
      ]
     },
     "metadata": {},
     "output_type": "display_data"
    }
   ],
   "source": [
    "sns.barplot(x='Churn Label',y ='CLTV' , data= cltv, hue='Churn Label', palette='Blues')\n",
    "plt.title(\"CLTV of Churn and Retained Customers\")\n",
    "plt.xlabel('Churn Label')\n",
    "plt.ylabel('CLTV')\n",
    "\n",
    "plt.show()"
   ]
  },
  {
   "cell_type": "markdown",
   "id": "ff8f650f",
   "metadata": {},
   "source": [
    "# 6. Correlation"
   ]
  },
  {
   "cell_type": "code",
   "execution_count": 55,
   "id": "dfeae4a9",
   "metadata": {},
   "outputs": [
    {
     "data": {
      "image/png": "[encoded data removed]",
      "text/plain": [
       "<Figure size 640x480 with 2 Axes>"
      ]
     },
     "metadata": {},
     "output_type": "display_data"
    }
   ],
   "source": [
    "sns.heatmap(df.corr(numeric_only=True))\n",
    "plt.show()"
   ]
  },
  {
   "cell_type": "markdown",
   "id": "46ce641d",
   "metadata": {},
   "source": [
    "# Machine Learning Model"
   ]
  },
  {
   "cell_type": "markdown",
   "id": "cd3f725e",
   "metadata": {},
   "source": [
    "# Preprocessing\n"
   ]
  },
  {
   "cell_type": "code",
   "execution_count": 56,
   "id": "b285456e",
   "metadata": {},
   "outputs": [
    {
     "data": {
      "text/plain": [
       "Index(['CustomerID', 'Count', 'Country', 'State', 'City', 'Zip Code', 'Gender',\n",
       "       'Senior Citizen', 'Partner', 'Dependents', 'Tenure Months',\n",
       "       'Phone Service', 'Multiple Lines', 'Internet Service',\n",
       "       'Online Security', 'Online Backup', 'Device Protection', 'Tech Support',\n",
       "       'Streaming TV', 'Streaming Movies', 'Contract', 'Paperless Billing',\n",
       "       'Payment Method', 'Monthly Charges', 'Total Charges', 'Churn Label',\n",
       "       'Churn Value', 'Churn Score', 'CLTV', 'Churn Reason',\n",
       "       'SpendingCategory'],\n",
       "      dtype='object')"
      ]
     },
     "execution_count": 56,
     "metadata": {},
     "output_type": "execute_result"
    }
   ],
   "source": [
    "df.columns"
   ]
  },
  {
   "cell_type": "code",
   "execution_count": 57,
   "id": "e4a20578",
   "metadata": {},
   "outputs": [],
   "source": [
    "from sklearn.preprocessing import LabelEncoder"
   ]
  },
  {
   "cell_type": "code",
   "execution_count": 58,
   "id": "04eff01d",
   "metadata": {},
   "outputs": [],
   "source": [
    "X= df.drop(columns=['CustomerID','Count','Country', 'State', 'City', 'Zip Code','Churn Reason','Churn Label','Churn Value', 'Churn Score'])\n",
    "y= df['Churn Label']\n"
   ]
  },
  {
   "cell_type": "code",
   "execution_count": 59,
   "id": "e88dfe1c",
   "metadata": {},
   "outputs": [],
   "source": [
    "X =pd.get_dummies(X,drop_first=True)"
   ]
  },
  {
   "cell_type": "code",
   "execution_count": 60,
   "id": "d3c61e57",
   "metadata": {},
   "outputs": [
    {
     "data": {
      "text/plain": [
       "Index(['Senior Citizen', 'Partner', 'Dependents', 'Tenure Months',\n",
       "       'Paperless Billing', 'Monthly Charges', 'Total Charges', 'CLTV',\n",
       "       'Gender_Male', 'Phone Service_Yes', 'Multiple Lines_No phone service',\n",
       "       'Multiple Lines_Yes', 'Internet Service_Fiber optic',\n",
       "       'Internet Service_No', 'Online Security_No internet service',\n",
       "       'Online Security_Yes', 'Online Backup_No internet service',\n",
       "       'Online Backup_Yes', 'Device Protection_No internet service',\n",
       "       'Device Protection_Yes', 'Tech Support_No internet service',\n",
       "       'Tech Support_Yes', 'Streaming TV_No internet service',\n",
       "       'Streaming TV_Yes', 'Streaming Movies_No internet service',\n",
       "       'Streaming Movies_Yes', 'Contract_One year', 'Contract_Two year',\n",
       "       'Payment Method_Credit card (automatic)',\n",
       "       'Payment Method_Electronic check', 'Payment Method_Mailed check',\n",
       "       'SpendingCategory_Medium', 'SpendingCategory_High'],\n",
       "      dtype='object')"
      ]
     },
     "execution_count": 60,
     "metadata": {},
     "output_type": "execute_result"
    }
   ],
   "source": [
    "X.columns"
   ]
  },
  {
   "cell_type": "markdown",
   "id": "73d96f3a",
   "metadata": {},
   "source": [
    "# Models"
   ]
  },
  {
   "cell_type": "code",
   "execution_count": 61,
   "id": "90a151ab",
   "metadata": {},
   "outputs": [
    {
     "name": "stdout",
     "output_type": "stream",
     "text": [
      "                 feature  importance\n",
      "6          Total Charges    0.136830\n",
      "3          Tenure Months    0.136809\n",
      "5        Monthly Charges    0.134453\n",
      "7                   CLTV    0.132674\n",
      "8            Gender_Male    0.023141\n",
      "1                Partner    0.021749\n",
      "11    Multiple Lines_Yes    0.021550\n",
      "25  Streaming Movies_Yes    0.020411\n",
      "4      Paperless Billing    0.020236\n",
      "23      Streaming TV_Yes    0.019486\n"
     ]
    }
   ],
   "source": [
    "from sklearn.ensemble import RandomForestClassifier\n",
    "\n",
    "model = RandomForestClassifier(random_state=42)\n",
    "model.fit(X, y)\n",
    "\n",
    "importances = pd.DataFrame({\n",
    "    'feature': X.columns,\n",
    "    'importance': model.feature_importances_\n",
    "}).sort_values(by='importance', ascending=False)\n",
    "print(importances.head(10))\n"
   ]
  },
  {
   "cell_type": "code",
   "execution_count": 62,
   "id": "9e16ef18",
   "metadata": {},
   "outputs": [],
   "source": [
    "from sklearn.model_selection import train_test_split\n",
    "\n",
    "X_train, X_test, y_train, y_test = train_test_split(\n",
    "    X, y, test_size=0.2, random_state=42, stratify=y\n",
    ")\n"
   ]
  },
  {
   "cell_type": "code",
   "execution_count": 63,
   "id": "7093a645",
   "metadata": {},
   "outputs": [
    {
     "name": "stderr",
     "output_type": "stream",
     "text": [
      "c:\\Users\\SHAURYA CHAND\\anoconda\\Lib\\site-packages\\sklearn\\linear_model\\_logistic.py:469: ConvergenceWarning: lbfgs failed to converge (status=1):\n",
      "STOP: TOTAL NO. of ITERATIONS REACHED LIMIT.\n",
      "\n",
      "Increase the number of iterations (max_iter) or scale the data as shown in:\n",
      "    https://scikit-learn.org/stable/modules/preprocessing.html\n",
      "Please also refer to the documentation for alternative solver options:\n",
      "    https://scikit-learn.org/stable/modules/linear_model.html#logistic-regression\n",
      "  n_iter_i = _check_optimize_result(\n",
      "c:\\Users\\SHAURYA CHAND\\anoconda\\Lib\\site-packages\\sklearn\\metrics\\_classification.py:1531: UndefinedMetricWarning: Precision is ill-defined and being set to 0.0 in labels with no predicted samples. Use `zero_division` parameter to control this behavior.\n",
      "  _warn_prf(average, modifier, f\"{metric.capitalize()} is\", len(result))\n",
      "c:\\Users\\SHAURYA CHAND\\anoconda\\Lib\\site-packages\\sklearn\\metrics\\_classification.py:1531: UndefinedMetricWarning: Precision is ill-defined and being set to 0.0 in labels with no predicted samples. Use `zero_division` parameter to control this behavior.\n",
      "  _warn_prf(average, modifier, f\"{metric.capitalize()} is\", len(result))\n",
      "c:\\Users\\SHAURYA CHAND\\anoconda\\Lib\\site-packages\\sklearn\\metrics\\_classification.py:1531: UndefinedMetricWarning: Precision is ill-defined and being set to 0.0 in labels with no predicted samples. Use `zero_division` parameter to control this behavior.\n",
      "  _warn_prf(average, modifier, f\"{metric.capitalize()} is\", len(result))\n"
     ]
    },
    {
     "name": "stdout",
     "output_type": "stream",
     "text": [
      "Logistic Regression\n",
      "Decision Tree\n",
      "Random Forest\n",
      "SVM\n"
     ]
    },
    {
     "name": "stderr",
     "output_type": "stream",
     "text": [
      "c:\\Users\\SHAURYA CHAND\\anoconda\\Lib\\site-packages\\sklearn\\metrics\\_classification.py:1531: UndefinedMetricWarning: Precision is ill-defined and being set to 0.0 in labels with no predicted samples. Use `zero_division` parameter to control this behavior.\n",
      "  _warn_prf(average, modifier, f\"{metric.capitalize()} is\", len(result))\n",
      "c:\\Users\\SHAURYA CHAND\\anoconda\\Lib\\site-packages\\sklearn\\metrics\\_classification.py:1531: UndefinedMetricWarning: Precision is ill-defined and being set to 0.0 in labels with no predicted samples. Use `zero_division` parameter to control this behavior.\n",
      "  _warn_prf(average, modifier, f\"{metric.capitalize()} is\", len(result))\n",
      "c:\\Users\\SHAURYA CHAND\\anoconda\\Lib\\site-packages\\sklearn\\metrics\\_classification.py:1531: UndefinedMetricWarning: Precision is ill-defined and being set to 0.0 in labels with no predicted samples. Use `zero_division` parameter to control this behavior.\n",
      "  _warn_prf(average, modifier, f\"{metric.capitalize()} is\", len(result))\n"
     ]
    }
   ],
   "source": [
    "from sklearn.linear_model import LogisticRegression\n",
    "from sklearn.tree import DecisionTreeClassifier\n",
    "from sklearn.ensemble import RandomForestClassifier\n",
    "from sklearn.metrics import classification_report\n",
    "from sklearn.svm import SVC\n",
    "\n",
    "models = {\n",
    "    \"Logistic Regression\": LogisticRegression(max_iter=1000),\n",
    "    \"Decision Tree\": DecisionTreeClassifier(),\n",
    "    \"Random Forest\": RandomForestClassifier(),\n",
    "    \"SVM\": SVC()\n",
    "}\n",
    "\n",
    "\n",
    "all_reports = {}\n",
    "\n",
    "for name, clf in models.items():\n",
    "    clf.fit(X_train, y_train)\n",
    "    y_pred = clf.predict(X_test)\n",
    "    print(name)\n",
    "    \n",
    "    \n",
    "    report = classification_report(y_test, y_pred, output_dict=True)\n",
    "    \n",
    "    \n",
    "    all_reports[name] = pd.DataFrame(report).transpose()\n",
    "\n",
    "\n",
    "\n",
    "\n",
    "combined_df = pd.concat(all_reports, axis=0)\n",
    "\n"
   ]
  },
  {
   "cell_type": "code",
   "execution_count": 64,
   "id": "991395d1",
   "metadata": {},
   "outputs": [
    {
     "data": {
      "text/html": [
       "<div>\n",
       "<style scoped>\n",
       "    .dataframe tbody tr th:only-of-type {\n",
       "        vertical-align: middle;\n",
       "    }\n",
       "\n",
       "    .dataframe tbody tr th {\n",
       "        vertical-align: top;\n",
       "    }\n",
       "\n",
       "    .dataframe thead th {\n",
       "        text-align: right;\n",
       "    }\n",
       "</style>\n",
       "<table border=\"1\" class=\"dataframe\">\n",
       "  <thead>\n",
       "    <tr style=\"text-align: right;\">\n",
       "      <th></th>\n",
       "      <th></th>\n",
       "      <th>precision</th>\n",
       "      <th>recall</th>\n",
       "      <th>f1-score</th>\n",
       "      <th>support</th>\n",
       "    </tr>\n",
       "  </thead>\n",
       "  <tbody>\n",
       "    <tr>\n",
       "      <th rowspan=\"5\" valign=\"top\">Logistic Regression</th>\n",
       "      <th>0</th>\n",
       "      <td>0.730669</td>\n",
       "      <td>1.000000</td>\n",
       "      <td>0.844378</td>\n",
       "      <td>7295.000000</td>\n",
       "    </tr>\n",
       "    <tr>\n",
       "      <th>1</th>\n",
       "      <td>0.000000</td>\n",
       "      <td>0.000000</td>\n",
       "      <td>0.000000</td>\n",
       "      <td>2689.000000</td>\n",
       "    </tr>\n",
       "    <tr>\n",
       "      <th>accuracy</th>\n",
       "      <td>0.730669</td>\n",
       "      <td>0.730669</td>\n",
       "      <td>0.730669</td>\n",
       "      <td>0.730669</td>\n",
       "    </tr>\n",
       "    <tr>\n",
       "      <th>macro avg</th>\n",
       "      <td>0.365335</td>\n",
       "      <td>0.500000</td>\n",
       "      <td>0.422189</td>\n",
       "      <td>9984.000000</td>\n",
       "    </tr>\n",
       "    <tr>\n",
       "      <th>weighted avg</th>\n",
       "      <td>0.533877</td>\n",
       "      <td>0.730669</td>\n",
       "      <td>0.616961</td>\n",
       "      <td>9984.000000</td>\n",
       "    </tr>\n",
       "    <tr>\n",
       "      <th rowspan=\"5\" valign=\"top\">Decision Tree</th>\n",
       "      <th>0</th>\n",
       "      <td>0.747343</td>\n",
       "      <td>0.722961</td>\n",
       "      <td>0.734950</td>\n",
       "      <td>7295.000000</td>\n",
       "    </tr>\n",
       "    <tr>\n",
       "      <th>1</th>\n",
       "      <td>0.309532</td>\n",
       "      <td>0.336928</td>\n",
       "      <td>0.322650</td>\n",
       "      <td>2689.000000</td>\n",
       "    </tr>\n",
       "    <tr>\n",
       "      <th>accuracy</th>\n",
       "      <td>0.618990</td>\n",
       "      <td>0.618990</td>\n",
       "      <td>0.618990</td>\n",
       "      <td>0.618990</td>\n",
       "    </tr>\n",
       "    <tr>\n",
       "      <th>macro avg</th>\n",
       "      <td>0.528438</td>\n",
       "      <td>0.529945</td>\n",
       "      <td>0.528800</td>\n",
       "      <td>9984.000000</td>\n",
       "    </tr>\n",
       "    <tr>\n",
       "      <th>weighted avg</th>\n",
       "      <td>0.629427</td>\n",
       "      <td>0.618990</td>\n",
       "      <td>0.623905</td>\n",
       "      <td>9984.000000</td>\n",
       "    </tr>\n",
       "    <tr>\n",
       "      <th rowspan=\"5\" valign=\"top\">Random Forest</th>\n",
       "      <th>0</th>\n",
       "      <td>0.741339</td>\n",
       "      <td>0.988485</td>\n",
       "      <td>0.847256</td>\n",
       "      <td>7295.000000</td>\n",
       "    </tr>\n",
       "    <tr>\n",
       "      <th>1</th>\n",
       "      <td>0.673152</td>\n",
       "      <td>0.064336</td>\n",
       "      <td>0.117447</td>\n",
       "      <td>2689.000000</td>\n",
       "    </tr>\n",
       "    <tr>\n",
       "      <th>accuracy</th>\n",
       "      <td>0.739583</td>\n",
       "      <td>0.739583</td>\n",
       "      <td>0.739583</td>\n",
       "      <td>0.739583</td>\n",
       "    </tr>\n",
       "    <tr>\n",
       "      <th>macro avg</th>\n",
       "      <td>0.707245</td>\n",
       "      <td>0.526411</td>\n",
       "      <td>0.482352</td>\n",
       "      <td>9984.000000</td>\n",
       "    </tr>\n",
       "    <tr>\n",
       "      <th>weighted avg</th>\n",
       "      <td>0.722974</td>\n",
       "      <td>0.739583</td>\n",
       "      <td>0.650696</td>\n",
       "      <td>9984.000000</td>\n",
       "    </tr>\n",
       "    <tr>\n",
       "      <th rowspan=\"5\" valign=\"top\">SVM</th>\n",
       "      <th>0</th>\n",
       "      <td>0.730669</td>\n",
       "      <td>1.000000</td>\n",
       "      <td>0.844378</td>\n",
       "      <td>7295.000000</td>\n",
       "    </tr>\n",
       "    <tr>\n",
       "      <th>1</th>\n",
       "      <td>0.000000</td>\n",
       "      <td>0.000000</td>\n",
       "      <td>0.000000</td>\n",
       "      <td>2689.000000</td>\n",
       "    </tr>\n",
       "    <tr>\n",
       "      <th>accuracy</th>\n",
       "      <td>0.730669</td>\n",
       "      <td>0.730669</td>\n",
       "      <td>0.730669</td>\n",
       "      <td>0.730669</td>\n",
       "    </tr>\n",
       "    <tr>\n",
       "      <th>macro avg</th>\n",
       "      <td>0.365335</td>\n",
       "      <td>0.500000</td>\n",
       "      <td>0.422189</td>\n",
       "      <td>9984.000000</td>\n",
       "    </tr>\n",
       "    <tr>\n",
       "      <th>weighted avg</th>\n",
       "      <td>0.533877</td>\n",
       "      <td>0.730669</td>\n",
       "      <td>0.616961</td>\n",
       "      <td>9984.000000</td>\n",
       "    </tr>\n",
       "  </tbody>\n",
       "</table>\n",
       "</div>"
      ],
      "text/plain": [
       "                                  precision    recall  f1-score      support\n",
       "Logistic Regression 0              0.730669  1.000000  0.844378  7295.000000\n",
       "                    1              0.000000  0.000000  0.000000  2689.000000\n",
       "                    accuracy       0.730669  0.730669  0.730669     0.730669\n",
       "                    macro avg      0.365335  0.500000  0.422189  9984.000000\n",
       "                    weighted avg   0.533877  0.730669  0.616961  9984.000000\n",
       "Decision Tree       0              0.747343  0.722961  0.734950  7295.000000\n",
       "                    1              0.309532  0.336928  0.322650  2689.000000\n",
       "                    accuracy       0.618990  0.618990  0.618990     0.618990\n",
       "                    macro avg      0.528438  0.529945  0.528800  9984.000000\n",
       "                    weighted avg   0.629427  0.618990  0.623905  9984.000000\n",
       "Random Forest       0              0.741339  0.988485  0.847256  7295.000000\n",
       "                    1              0.673152  0.064336  0.117447  2689.000000\n",
       "                    accuracy       0.739583  0.739583  0.739583     0.739583\n",
       "                    macro avg      0.707245  0.526411  0.482352  9984.000000\n",
       "                    weighted avg   0.722974  0.739583  0.650696  9984.000000\n",
       "SVM                 0              0.730669  1.000000  0.844378  7295.000000\n",
       "                    1              0.000000  0.000000  0.000000  2689.000000\n",
       "                    accuracy       0.730669  0.730669  0.730669     0.730669\n",
       "                    macro avg      0.365335  0.500000  0.422189  9984.000000\n",
       "                    weighted avg   0.533877  0.730669  0.616961  9984.000000"
      ]
     },
     "execution_count": 64,
     "metadata": {},
     "output_type": "execute_result"
    }
   ],
   "source": [
    "combined_df"
   ]
  },
  {
   "cell_type": "code",
   "execution_count": 65,
   "id": "67eb875d",
   "metadata": {},
   "outputs": [
    {
     "data": {
      "text/plain": [
       "0.7306690705128205"
      ]
     },
     "execution_count": 65,
     "metadata": {},
     "output_type": "execute_result"
    }
   ],
   "source": [
    "clf.score(X_test,y_test)"
   ]
  },
  {
   "cell_type": "code",
   "execution_count": 66,
   "id": "ec636902",
   "metadata": {},
   "outputs": [],
   "source": [
    "best_model = RandomForestClassifier(random_state=42)\n",
    "best_model.fit(X_train, y_train)\n",
    "\n",
    "df['churn_prob'] = best_model.predict_proba(X)[:,1]\n"
   ]
  },
  {
   "cell_type": "code",
   "execution_count": 67,
   "id": "3f819e76",
   "metadata": {},
   "outputs": [
    {
     "name": "stdout",
     "output_type": "stream",
     "text": [
      "Contract\n",
      "Month-to-month    0.297433\n",
      "One year          0.255538\n",
      "Two year          0.245773\n",
      "Name: churn_prob, dtype: float64\n"
     ]
    }
   ],
   "source": [
    "risk_segments = df.groupby('Contract')['churn_prob'].mean().sort_values(ascending=False)\n",
    "print(risk_segments)\n"
   ]
  },
  {
   "cell_type": "code",
   "execution_count": 70,
   "id": "b6cd5857",
   "metadata": {},
   "outputs": [
    {
     "name": "stdout",
     "output_type": "stream",
     "text": [
      "SpendingCategory\n",
      "High      0.289793\n",
      "Medium    0.278639\n",
      "Low       0.260897\n",
      "Name: churn_prob, dtype: float64\n"
     ]
    },
    {
     "name": "stderr",
     "output_type": "stream",
     "text": [
      "C:\\Users\\SHAURYA CHAND\\AppData\\Local\\Temp\\ipykernel_332408\\2859296689.py:1: FutureWarning: The default of observed=False is deprecated and will be changed to True in a future version of pandas. Pass observed=False to retain current behavior or observed=True to adopt the future default and silence this warning.\n",
      "  risk_segments = df.groupby('SpendingCategory')['churn_prob'].mean().sort_values(ascending=False)\n"
     ]
    }
   ],
   "source": [
    "risk_segments = df.groupby('SpendingCategory')['churn_prob'].mean().sort_values(ascending=False)\n",
    "print(risk_segments)"
   ]
  },
  {
   "cell_type": "code",
   "execution_count": 72,
   "id": "f448f565",
   "metadata": {},
   "outputs": [
    {
     "name": "stdout",
     "output_type": "stream",
     "text": [
      "Senior Citizen\n",
      "1    0.295421\n",
      "0    0.272735\n",
      "Name: churn_prob, dtype: float64\n"
     ]
    }
   ],
   "source": [
    "risk_segments = df.groupby('Senior Citizen')['churn_prob'].mean().sort_values(ascending=False)\n",
    "print(risk_segments)"
   ]
  },
  {
   "cell_type": "code",
   "execution_count": 74,
   "id": "c98884e3",
   "metadata": {},
   "outputs": [
    {
     "name": "stdout",
     "output_type": "stream",
     "text": [
      "Internet Service\n",
      "Fiber optic    0.293943\n",
      "DSL            0.269594\n",
      "No             0.252501\n",
      "Name: churn_prob, dtype: float64\n"
     ]
    }
   ],
   "source": [
    "risk_segments = df.groupby('Internet Service')['churn_prob'].mean().sort_values(ascending=False)\n",
    "print(risk_segments)"
   ]
  },
  {
   "cell_type": "code",
   "execution_count": 79,
   "id": "88d48704",
   "metadata": {},
   "outputs": [
    {
     "name": "stdout",
     "output_type": "stream",
     "text": [
      "Phone Service\n",
      "No     0.285573\n",
      "Yes    0.275484\n",
      "Name: churn_prob, dtype: float64\n"
     ]
    }
   ],
   "source": [
    "risk_segments = df.groupby('Phone Service')['churn_prob'].mean().sort_values(ascending=False)\n",
    "print(risk_segments)"
   ]
  },
  {
   "cell_type": "code",
   "execution_count": 81,
   "id": "fe86ece4",
   "metadata": {},
   "outputs": [
    {
     "name": "stdout",
     "output_type": "stream",
     "text": [
      "Payment Method\n",
      "Electronic check             0.303528\n",
      "Mailed check                 0.270859\n",
      "Bank transfer (automatic)    0.265301\n",
      "Credit card (automatic)      0.251266\n",
      "Name: churn_prob, dtype: float64\n"
     ]
    }
   ],
   "source": [
    "risk_segments = df.groupby('Payment Method')['churn_prob'].mean().sort_values(ascending=False)\n",
    "print(risk_segments)"
   ]
  },
  {
   "cell_type": "code",
   "execution_count": 85,
   "id": "4b857407",
   "metadata": {},
   "outputs": [
    {
     "name": "stdout",
     "output_type": "stream",
     "text": [
      "Streaming Movies\n",
      "No                     0.284040\n",
      "Yes                    0.281064\n",
      "No internet service    0.254258\n",
      "Name: churn_prob, dtype: float64\n"
     ]
    }
   ],
   "source": [
    "risk_segments = df.groupby('Streaming Movies')['churn_prob'].mean().sort_values(ascending=False)\n",
    "print(risk_segments)"
   ]
  },
  {
   "cell_type": "code",
   "execution_count": 68,
   "id": "227000eb",
   "metadata": {},
   "outputs": [
    {
     "data": {
      "text/plain": [
       "Index(['CustomerID', 'Count', 'Country', 'State', 'City', 'Zip Code', 'Gender',\n",
       "       'Senior Citizen', 'Partner', 'Dependents', 'Tenure Months',\n",
       "       'Phone Service', 'Multiple Lines', 'Internet Service',\n",
       "       'Online Security', 'Online Backup', 'Device Protection', 'Tech Support',\n",
       "       'Streaming TV', 'Streaming Movies', 'Contract', 'Paperless Billing',\n",
       "       'Payment Method', 'Monthly Charges', 'Total Charges', 'Churn Label',\n",
       "       'Churn Value', 'Churn Score', 'CLTV', 'Churn Reason',\n",
       "       'SpendingCategory', 'churn_prob'],\n",
       "      dtype='object')"
      ]
     },
     "execution_count": 68,
     "metadata": {},
     "output_type": "execute_result"
    }
   ],
   "source": [
    "df.columns"
   ]
  },
  {
   "cell_type": "code",
   "execution_count": null,
   "id": "f4fc05f3",
   "metadata": {},
   "outputs": [],
   "source": []
  }
 ],
 "metadata": {
  "kernelspec": {
   "display_name": "base",
   "language": "python",
   "name": "python3"
  },
  "language_info": {
   "codemirror_mode": {
    "name": "ipython",
    "version": 3
   },
   "file_extension": ".py",
   "mimetype": "text/x-python",
   "name": "python",
   "nbconvert_exporter": "python",
   "pygments_lexer": "ipython3",
   "version": "3.12.3"
  }
 },
 "nbformat": 4,
 "nbformat_minor": 5
}
